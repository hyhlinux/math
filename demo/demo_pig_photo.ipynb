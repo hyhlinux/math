{
 "cells": [
  {
   "cell_type": "code",
   "execution_count": null,
   "metadata": {},
   "outputs": [],
   "source": [
    ""
   ]
  },
  {
   "cell_type": "markdown",
   "metadata": {},
   "source": [
    "##### step1: 处理视频\n",
    "1. 每个视频截取2949张图片。\n",
    "2. 每个视频花费时间:2:06:21 约126s.\n",
    "3. 30个视频,图片总数87870张.\n",
    "4. 30个视频,花费时间63m."
   ]
  },
  {
   "cell_type": "code",
   "execution_count": 24,
   "metadata": {},
   "outputs": [
    {
     "name": "stdout",
     "output_type": "stream",
     "text": [
      "all_pig_photo_nums:87870张\n",
      "pig_photo_size:0.259765625Mb pig_photos_size:760.853515625Mb\n",
      "all_pig_photo_size:22.290630340576172Gb\n"
     ]
    }
   ],
   "source": [
    "pig_sum = 30\n",
    "pig_photo_nums = 2929 \n",
    "pig_photo_size = 266 * 1024 # 266kb\n",
    "all_pig_photo_nums = pig_sum * pig_photo_nums\n",
    "print(\"all_pig_photo_nums:{}张\".format(all_pig_photo_nums))\n",
    "pig_photo_size = pig_photo_size / 1024 / 1024 #Mb\n",
    "pig_photos_size = pig_photo_nums * pig_photo_size #Mb\n",
    "print(\"pig_photo_size:{}Mb pig_photos_size:{}Mb\".format(pig_photo_size, pig_photos_size))\n",
    "all_pig_photo_size = pig_sum * pig_photos_size #所有的猪的图片站用空间\n",
    "print(\"all_pig_photo_size:{}Gb\".format(all_pig_photo_size/1024))"
   ]
  },
  {
   "cell_type": "markdown",
   "metadata": {},
   "source": []
  },
  {
   "cell_type": "code",
   "execution_count": null,
   "metadata": {},
   "outputs": [],
   "source": [
    ""
   ]
  }
 ],
 "metadata": {
  "kernelspec": {
   "display_name": "Python 3",
   "language": "python",
   "name": "python3"
  },
  "language_info": {
   "codemirror_mode": {
    "name": "ipython",
    "version": 3.0
   },
   "file_extension": ".py",
   "mimetype": "text/x-python",
   "name": "python",
   "nbconvert_exporter": "python",
   "pygments_lexer": "ipython3",
   "version": "3.6.3"
  }
 },
 "nbformat": 4,
 "nbformat_minor": 0
}