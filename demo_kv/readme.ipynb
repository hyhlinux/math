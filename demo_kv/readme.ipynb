{
 "cells": [
  {
   "cell_type": "markdown",
   "metadata": {},
   "source": [
    "#### 进入虚拟环境\n",
    "(kv) ➜  osx git:(master) ✗\n",
    "1. python package_app.py /pathxx/demo_kv/paint \n",
    "2. ./create-osx-dmg.sh paint.app\n",
    "\n",
    "\n",
    "##### 1.执行结果\n",
    "```bash\n",
    "....\n",
    "Compiling paint.app/Contents/Resources/venv/lib/python2.7/sre_parse.py ...\n",
    "-- Remove all py/pyc/pyo\n",
    "-- Remove all .c\n",
    "Editing info.plist\n",
    "stripping app\n",
    "+ '[' 'x$1' == x ']'\n",
    "+ APPPATH=./paint.app\n",
    "+ PYPATH=./paint.app/Contents/Frameworks/python\n",
    "+ rm -rf ./paint.app/Contents/Resources/kivy/doc ./paint.app/Contents/Resources/kivy/build ./paint.app/Contents/Resources/kivy/examples\n",
    "+ rm -rf ./paint.app/Contents/Resources/kivy/kivy/tools ./paint.app/Contents/Resources/kivy/kivy/tests\n",
    "+ rm -rf ./paint.app/Contents/Resources/venv/bin/cython ./paint.app/Contents/Resources/venv/bin/cythonize ./paint.app/Contents/Resources/venv/bin/cygdb ./paint.app/Contents/Resources/venv/bin/osxrelocator ./paint.app/Contents/Resources/venv/bin/pip ./paint.app/Contents/Resources/venv/bin/pip2 ./paint.app/Contents/Resources/venv/bin/pip2.7 ./paint.app/Contents/Resources/venv/bin/pygmentize ./paint.app/Contents/Resources/venv/bin/easy_install ./paint.app/Contents/Resources/venv/bin/easy_install-2.7 ./paint.app/Contents/Resources/venv/bin/rst2html.py ./paint.app/Contents/Resources/venv/bin/rst2latex.py ./paint.app/Contents/Resources/venv/bin/rst2man.py ./paint.app/Contents/Resources/venv/bin/rst2odt.py ./paint.app/Contents/Resources/venv/bin/rst2odt_prepstyles.py ./paint.app/Contents/Resources/venv/bin/rst2pseudoxml.py ./paint.app/Contents/Resources/venv/bin/rst2s5.py ./paint.app/Contents/Resources/venv/bin/rst2xetex.py ./paint.app/Contents/Resources/venv/bin/rst2xml.py ./paint.app/Contents/Resources/venv/bin/rstpep2html.py\n",
    "+ rm -rf ./paint.app/Contents/Resources/venv/lib/python2.7/site-packages/pip ./paint.app/Contents/Resources/venv/lib/python2.7/site-packages/pip-1.5.4.dist-info ./paint.app/Contents/Resources/venv/lib/python2.7/site-packages/Cython ./paint.app/Contents/Resources/venv/lib/python2.7/site-packages/Cython-0.23.dist-info ./paint.app/Contents/Resources/venv/lib/python2.7/site-packages/setuptools ./paint.app/Contents/Resources/venv/lib/python2.7/site-packages/setuptools-2.2.dist-info ./paint.app/Contents/Resources/venv/lib/python2.7/site-packages/osxrelocator ./paint.app/Contents/Resources/venv/lib/python2.7/site-packages/osxrelocator-1.0.1-py2.7.egg-info ./paint.app/Contents/Resources/venv/lib/python2.7/site-packages/cython.py\n",
    "+ rm -rf ./paint.app/Contents/Resources/venv/lib/python2.7/site-packages/wheel/test\n",
    "+ rm -rf './paint.app/Contents/Resources/venv/lib/python3.5/site-packages/pip*' './paint.app/Contents/Resources/venv/lib/python3.5/site-packages/Cython*' './paint.app/Contents/Resources/venv/lib/python3.5/site-packages/setuptools*' './paint.app/Contents/Resources/venv/lib/python3.5/site-packages/osxrelocator*' './paint.app/Contents/Resources/venv/lib/python3.5/site-packages/cython*' './paint.app/Contents/Resources/venv/lib/python3.5/site-packages/wheel/test*'\n",
    "+ rm -rf ./paint.app/Contents/Resources/venv/lib/python3.5/site-packages/wheel/test\n",
    "+ rm -rf ./paint.app/Contents/Frameworks/python/3.5.0/lib/python3.5/turtledemo ./paint.app/Contents/Frameworks/python/3.5.0/lib/python3.5/test ./paint.app/Contents/Frameworks/python/3.5.0/lib/python3.5/curses ./paint.app/Contents/Frameworks/python/3.5.0/lib/python3.5/unittest ./paint.app/Contents/Frameworks/python/3.5.0/lib/python3.5/ensurepip ./paint.app/Contents/Frameworks/python/3.5.0/lib/python3.5/idlelib ./paint.app/Contents/Frameworks/python/3.5.0/lib/python3.5/pydoc_data './paint.app/Contents/Frameworks/python/3.5.0/lib/python3.5/setuptools*'\n",
    "+ rm -rf './paint.app/Contents/Frameworks/python/3.5.0/lib/python3.5/site-packages/easy_install*' './paint.app/Contents/Frameworks/python/3.5.0/lib/python3.5/site-packages/pip*'\n",
    "+ rm -rf ./paint.app/Contents/Frameworks/python/3.5.0/lib/python3.5/site-packages/wheel/test\n",
    "+ rm -rf ./paint.app/Contents/Frameworks/python/3.5.0/lib/python3.5/sqlite3\n",
    "+ rm -rf ./paint.app/Contents/Frameworks/python/3.5.0/lib/python3.5/tkinter\n",
    "+ rm -rf ./paint.app/Contents/Frameworks/python/3.5.0/bin/pygmentize './paint.app/Contents/Frameworks/python/3.5.0/bin/2to*' './paint.app/Contents/Frameworks/python/3.5.0/bin/pip*' './paint.app/Contents/Frameworks/python/3.5.0/bin/*-config' './paint.app/Contents/Frameworks/python/3.5.0/bin/easy_install*' './paint.app/Contents/Frameworks/python/3.5.0/bin/idle*' './paint.app/Contents/Frameworks/python/3.5.0/bin/pydoc*' './paint.app/Contents/Frameworks/python/3.5.0/bin/python3.5m*' './paint.app/Contents/Frameworks/python/3.5.0/bin/rst*' './paint.app/Contents/Frameworks/python/3.5.0/bin/pip*'\n",
    "+ rm -rf './paint.app/Contents/Frameworks/python/3.5.0/lib/lib*' ./paint.app/Contents/Frameworks/python/3.5.0/lib/pkgconfig\n",
    "+ rm -rf ./paint.app/Contents/Frameworks/python/3.5.0/include\n",
    "+ rm -rf ./paint.app/Contents/Frameworks/python/3.5.0/lib/pkgconfig\n",
    "Stripping complete\n",
    "All done!\n",
    "\n",
    "\n",
    "(kv) ➜  osx git:(master) ✗ ll\n",
    "total 193168\n",
    "drwxr-xr-x@ 3 huoyinghui  admin   102B  1  1  2016 Kivy.App\n",
    "-rw-r--r--  1 huoyinghui  staff   1.2K 11 30 23:52 README.md\n",
    "-rw-r--r--  1 huoyinghui  staff   1.4K 11 30 23:52 cleanup_app.sh\n",
    "-rwxr-xr-x  1 huoyinghui  staff   5.8K 11 30 23:52 create-osx-bundle.sh\n",
    "-rwxr-xr-x  1 huoyinghui  staff   2.4K 11 30 23:52 create-osx-dmg.sh\n",
    "drwxr-xr-x  7 huoyinghui  staff   238B 11 30 23:52 data\n",
    "drwxr-xr-x@ 3 huoyinghui  admin   102B  1  1  2016 login.app\n",
    "-rw-r--r--@ 1 huoyinghui  staff    47M 11 30 23:59 login.dmg\n",
    "-rwxr-xr-x  1 huoyinghui  staff   8.9K 11 30 23:55 package_app.py\n",
    "drwxr-xr-x@ 3 huoyinghui  admin   102B  1  1  2016 paint.app             #生成打包文件\n",
    "```\n",
    "\n",
    "\n",
    "##### 2.生成dmg\n",
    "(kv) ➜  osx git:(master) ✗ ./create-osx-dmg.sh paint.app"
   ]
  },
  {
   "cell_type": "code",
   "execution_count": null,
   "metadata": {},
   "outputs": [],
   "source": []
  }
 ],
 "metadata": {
  "kernelspec": {
   "display_name": "Python 3",
   "language": "python",
   "name": "python3"
  },
  "language_info": {
   "codemirror_mode": {
    "name": "ipython",
    "version": 3
   },
   "file_extension": ".py",
   "mimetype": "text/x-python",
   "name": "python",
   "nbconvert_exporter": "python",
   "pygments_lexer": "ipython3",
   "version": "3.5.0"
  }
 },
 "nbformat": 4,
 "nbformat_minor": 2
}
