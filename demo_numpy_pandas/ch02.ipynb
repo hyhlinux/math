{
 "cells": [
  {
   "cell_type": "code",
   "execution_count": 1,
   "metadata": {},
   "outputs": [],
   "source": [
    "import numpy as np"
   ]
  },
  {
   "cell_type": "code",
   "execution_count": 2,
   "metadata": {},
   "outputs": [],
   "source": [
    "# 查看docstring\n",
    "np?"
   ]
  },
  {
   "cell_type": "code",
   "execution_count": 3,
   "metadata": {},
   "outputs": [],
   "source": [
    "# 查看源码\n",
    "np.sort??"
   ]
  },
  {
   "cell_type": "code",
   "execution_count": 4,
   "metadata": {},
   "outputs": [
    {
     "name": "stdout",
     "output_type": "stream",
     "text": [
      "[[ 0  1  2]\n",
      " [-3  4  0]\n",
      " [-1  3 -2]] (3, 3) [[-4 -1  2]\n",
      " [-1 -4  0]\n",
      " [ 1  5 -2]] (3, 3)\n",
      "[[-1.  0.  1.]\n",
      " [-1.  0.  0.]\n",
      " [ 0.  2. -1.]] [[-3. -1.  1.]\n",
      " [ 0. -4.  0.]\n",
      " [ 1.  3. -1.]]\n"
     ]
    }
   ],
   "source": [
    "# 直接运行py程序\n",
    "%run demo_np02.py"
   ]
  },
  {
   "cell_type": "code",
   "execution_count": 9,
   "metadata": {},
   "outputs": [
    {
     "data": {
      "text/plain": [
       "['A', 'B', 'X', 'Y', 'np']"
      ]
     },
     "execution_count": 9,
     "metadata": {},
     "output_type": "execute_result"
    }
   ],
   "source": [
    "%who_ls"
   ]
  },
  {
   "cell_type": "code",
   "execution_count": 11,
   "metadata": {},
   "outputs": [
    {
     "data": {
      "text/plain": [
       "['A', 'B', 'X', 'Y', 'np']"
      ]
     },
     "execution_count": 11,
     "metadata": {},
     "output_type": "execute_result"
    }
   ],
   "source": [
    "__"
   ]
  },
  {
   "cell_type": "code",
   "execution_count": 13,
   "metadata": {},
   "outputs": [
    {
     "name": "stdout",
     "output_type": "stream",
     "text": [
      "Activating auto-logging. Current session state plus future input saved.\n",
      "Filename       : ipython_log.py\n",
      "Mode           : rotate\n",
      "Output logging : False\n",
      "Raw input log  : False\n",
      "Timestamping   : False\n",
      "State          : active\n"
     ]
    }
   ],
   "source": [
    "%logstart"
   ]
  },
  {
   "cell_type": "code",
   "execution_count": 14,
   "metadata": {},
   "outputs": [],
   "source": [
    "x = \"foobar\"\n",
    "y = \"foo\""
   ]
  },
  {
   "cell_type": "code",
   "execution_count": 16,
   "metadata": {},
   "outputs": [
    {
     "name": "stdout",
     "output_type": "stream",
     "text": [
      "219 ns ± 14.3 ns per loop (mean ± std. dev. of 7 runs, 1000000 loops each)\n"
     ]
    }
   ],
   "source": [
    "%timeit x.startswith(y)"
   ]
  },
  {
   "cell_type": "code",
   "execution_count": 24,
   "metadata": {},
   "outputs": [],
   "source": [
    "import requests"
   ]
  },
  {
   "cell_type": "code",
   "execution_count": 25,
   "metadata": {},
   "outputs": [],
   "source": [
    "headers = {\"User-Agent\": \"Mozilla/5.0 (Macintosh; Intel Mac OS X 10_12_6) AppleWebKit/537.36 (KHTML, like Gecko) Chrome/63.0.3239.84 Safari/537.36\"}"
   ]
  },
  {
   "cell_type": "code",
   "execution_count": 26,
   "metadata": {},
   "outputs": [
    {
     "data": {
      "text/plain": [
       "{'User-Agent': 'Mozilla/5.0 (Macintosh; Intel Mac OS X 10_12_6) AppleWebKit/537.36 (KHTML, like Gecko) Chrome/63.0.3239.84 Safari/537.36'}"
      ]
     },
     "execution_count": 26,
     "metadata": {},
     "output_type": "execute_result"
    }
   ],
   "source": [
    "headers"
   ]
  },
  {
   "cell_type": "code",
   "execution_count": 27,
   "metadata": {},
   "outputs": [
    {
     "data": {
      "text/plain": [
       "<Response [200]>"
      ]
     },
     "execution_count": 27,
     "metadata": {},
     "output_type": "execute_result"
    }
   ],
   "source": [
    "all_url = \"http://www.mzitu.com/all\"\n",
    "start_html = requests.get(all_url, headers=headers)\n",
    "start_html"
   ]
  },
  {
   "cell_type": "code",
   "execution_count": 51,
   "metadata": {},
   "outputs": [
    {
     "data": {
      "text/plain": [
       "'<!DOCTYPE '"
      ]
     },
     "execution_count": 51,
     "metadata": {},
     "output_type": "execute_result"
    }
   ],
   "source": [
    "start_html.text[:10]"
   ]
  },
  {
   "cell_type": "code",
   "execution_count": 29,
   "metadata": {},
   "outputs": [],
   "source": [
    "from lxml import etree"
   ]
  },
  {
   "cell_type": "code",
   "execution_count": 54,
   "metadata": {},
   "outputs": [
    {
     "name": "stderr",
     "output_type": "stream",
     "text": [
      "/Users/apple/.virtualenvs/math3.5/lib/python3.5/site-packages/ipykernel_launcher.py:3: FutureWarning: The behavior of this method will change in future versions. Use specific 'len(elem)' or 'elem is not None' test instead.\n",
      "  This is separate from the ipykernel package so we can avoid doing imports until\n"
     ]
    }
   ],
   "source": [
    "tree = etree.HTML(start_html.text)\n",
    "# (a.text, a.attrib.get('href')) , 提交代码是只打印标签，测试时看数据。\n",
    "a_list = [(a.text, a.attrib.get('href')) for a in tree.xpath(\"//div[contains(@class, 'all')]//li//a\") if not a]"
   ]
  },
  {
   "cell_type": "code",
   "execution_count": 73,
   "metadata": {},
   "outputs": [
    {
     "name": "stdout",
     "output_type": "stream",
     "text": [
      "http://www.mzitu.com/114525\n",
      "10770\n",
      "http://www.mzitu.com/114525/1\n",
      "http://www.mzitu.com/114525/2\n",
      "http://www.mzitu.com/114525/3\n",
      "http://www.mzitu.com/114525/4\n",
      "http://www.mzitu.com/114525/…\n",
      "http://www.mzitu.com/114525/65\n",
      "http://www.mzitu.com/114474\n",
      "10838\n",
      "http://www.mzitu.com/114474/1\n",
      "http://www.mzitu.com/114474/2\n",
      "http://www.mzitu.com/114474/3\n",
      "http://www.mzitu.com/114474/4\n",
      "http://www.mzitu.com/114474/…\n",
      "http://www.mzitu.com/114474/50\n"
     ]
    }
   ],
   "source": [
    "for a in a_list[:2]:\n",
    "    print(a[1])\n",
    "    body = get_child_page(a[1])\n",
    "    print(len(body))\n",
    "    child_link_list = get_child_link(body)\n",
    "    for link in child_link_list:\n",
    "        print(\"{}/{}\".format(a[1], link))"
   ]
  },
  {
   "cell_type": "code",
   "execution_count": 66,
   "metadata": {},
   "outputs": [],
   "source": [
    "# 获取用户首页\n",
    "def get_child_page(url=\"\"):\n",
    "    if not url:\n",
    "        return None\n",
    "    src_html = requests.get(url, headers=headers)\n",
    "    if not src_html:\n",
    "        return None\n",
    "    return src_html.text\n",
    "body = get_child_page(a_list[0][1])"
   ]
  },
  {
   "cell_type": "code",
   "execution_count": 74,
   "metadata": {},
   "outputs": [
    {
     "data": {
      "text/plain": [
       "['1', '2', '3', '4', '…', '50']"
      ]
     },
     "execution_count": 74,
     "metadata": {},
     "output_type": "execute_result"
    }
   ],
   "source": [
    "# 获取该用户的所有分页链接\n",
    "def get_child_link(html=\"\"):\n",
    "    if not html:\n",
    "        return None\n",
    "    child_tree = etree.HTML(html)\n",
    "    span_list = child_tree.xpath(\"//div[contains(@class, 'pagenavi')]//span//text()\")\n",
    "    if span_list and len(span_list) > 2:\n",
    "        span_list = span_list[1:-1]\n",
    "    return span_list\n",
    "get_child_link(body)"
   ]
  },
  {
   "cell_type": "code",
   "execution_count": 75,
   "metadata": {},
   "outputs": [
    {
     "data": {
      "text/plain": [
       "['http://i.meizitu.net/2018/01/02c65.jpg']"
      ]
     },
     "execution_count": 75,
     "metadata": {},
     "output_type": "execute_result"
    }
   ],
   "source": [
    "# 获取该用户某一个分页的具体图片\n",
    "def parse_img_from_child_page(url=\"\"):\n",
    "    src_html = requests.get(url, headers=headers)\n",
    "    child_tree = etree.HTML(src_html.text)\n",
    "    img_link = child_tree.xpath(\"//div[contains(@class, 'main-image')]//img/@src\")\n",
    "    return img_link\n",
    "parse_img_from_child_page(url=\"http://www.mzitu.com/114525/65\")"
   ]
  },
  {
   "cell_type": "code",
   "execution_count": null,
   "metadata": {},
   "outputs": [],
   "source": []
  }
 ],
 "metadata": {
  "kernelspec": {
   "display_name": "Python 3",
   "language": "python",
   "name": "python3"
  },
  "language_info": {
   "codemirror_mode": {
    "name": "ipython",
    "version": 3
   },
   "file_extension": ".py",
   "mimetype": "text/x-python",
   "name": "python",
   "nbconvert_exporter": "python",
   "pygments_lexer": "ipython3",
   "version": "3.5.0"
  }
 },
 "nbformat": 4,
 "nbformat_minor": 2
}
